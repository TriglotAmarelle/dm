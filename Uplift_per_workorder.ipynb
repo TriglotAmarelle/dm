{
 "cells": [
  {
   "cell_type": "code",
   "execution_count": 2,
   "metadata": {},
   "outputs": [
    {
     "name": "stderr",
     "output_type": "stream",
     "text": [
      "c:\\users\\gebruiker\\appdata\\local\\programs\\python\\python35\\lib\\site-packages\\IPython\\core\\interactiveshell.py:2785: DtypeWarning: Columns (53,80) have mixed types. Specify dtype option on import or set low_memory=False.\n",
      "  interactivity=interactivity, compiler=compiler, result=result)\n"
     ]
    }
   ],
   "source": [
    "# Let's import the data\n",
    "import pandas as pd\n",
    "df1 = pd.read_csv('C:/Users/Gebruiker/Desktop/WorkOrderMaster.csv', sep = ',', decimal = ',')\n",
    "df2 = pd.read_csv('C:/Users/Gebruiker/Desktop/F_OTIF_InFull_W2.csv', sep = ',', decimal = ',')"
   ]
  },
  {
   "cell_type": "code",
   "execution_count": 3,
   "metadata": {},
   "outputs": [
    {
     "name": "stdout",
     "output_type": "stream",
     "text": [
      "%WorkOrderMaster                            72117\n",
      "%WorkOrder                                  72117\n",
      "%WorkOrderDate                              72117\n",
      "%WorkOrderStatus                            72117\n",
      "%ItemNumberShort                            72117\n",
      "%WorkOrderNumberItemNumberShort             72117\n",
      "%ItemLocation                               72117\n",
      "%ItemLot                                    72117\n",
      "%ItemLocationLot                            72117\n",
      "%ItemBranch                                 72117\n",
      "%BusinessUnit                               72117\n",
      "%Branch                                     72117\n",
      "%Date                                       72117\n",
      "%StyleItem                                  72117\n",
      "%AddressNumber                              72117\n",
      "Status                                      72117\n",
      "Work Order Document Type and Description    72117\n",
      "Work Order Type and Description             72117\n",
      "Open Completion Date                        72117\n",
      "OTIF Date                                   72117\n",
      "Requested Date                              72117\n",
      "Requested Year                              72117\n",
      "Requested Year Week                         72117\n",
      "Requested Year Period                       72117\n",
      "Completed Year Week                         71275\n",
      "Work Order Status and Description           72117\n",
      "Number of Days at Current Status            72117\n",
      "Order Blocked                               72117\n",
      "Cloth Usage Order                           72117\n",
      "Quantity Ordered                            72117\n",
      "                                            ...  \n",
      "Work Order Document Type                    72117\n",
      "Work Order Type                             72117\n",
      "Order Number                                72117\n",
      "Related PO/SO/WO Order Type                 72117\n",
      "Related PO/SO/WO Number                     72117\n",
      "Priority                                    72117\n",
      "Description                                 72117\n",
      "Company                                     72117\n",
      "Business Unit                               72117\n",
      "Branch                                      72117\n",
      "Location                                    72117\n",
      "Originator                                  72117\n",
      "Manager                                     72117\n",
      "Phase                                       72117\n",
      "Reference                                   72117\n",
      "Item Number (Short)                         72117\n",
      "Quantity                                    72117\n",
      "Quantity Backordered                        72117\n",
      "Quantity Canceled                           72117\n",
      "Quantity Shipped                            72117\n",
      "U/M                                         72117\n",
      "Type Bill of Material                       72117\n",
      "Type of Routing                             72117\n",
      "Work Order Pick List Printed                72117\n",
      "Lot/SN                                      72117\n",
      "User ID                                     72117\n",
      "Time of Day                                 72117\n",
      "Leadtime Level                              72117\n",
      "Address Number                              72117\n",
      "Supervisor                                  72117\n",
      "Length: 87, dtype: int64\n",
      "Phase                                          17862\n",
      "Work Order Type                                17862\n",
      "%WorkOrder                                     17862\n",
      "%ItemNumberShort                               17862\n",
      "%Date                                          17858\n",
      "Completion Date W2                             17858\n",
      "Total First Choice                             17317\n",
      "Total Fents                                    17317\n",
      "Total Scrap Routing                            17861\n",
      "Total Scrap                                    17861\n",
      "Performance First Choice                       17823\n",
      "Performance Fents                              17317\n",
      "Performance Scrap                              17861\n",
      "Gross Total Quantity Ordered                   17862\n",
      "Performance First Choice Categorized Detail    17862\n",
      "Performance First Choice Categorized           17862\n",
      "dtype: int64\n"
     ]
    }
   ],
   "source": [
    "#Let's have a look at the main columns\n",
    "print(df1.count())\n",
    "print(df2.count())"
   ]
  },
  {
   "cell_type": "code",
   "execution_count": null,
   "metadata": {},
   "outputs": [],
   "source": []
  },
  {
   "cell_type": "code",
   "execution_count": 4,
   "metadata": {},
   "outputs": [],
   "source": [
    "#Let's merge the tables\n",
    "dff = pd.merge(df1,df2, on=['%WorkOrder', '%ItemNumberShort', '%Date', 'Work Order Type'])"
   ]
  },
  {
   "cell_type": "code",
   "execution_count": 5,
   "metadata": {},
   "outputs": [
    {
     "data": {
      "text/plain": [
       "2020    7247\n",
       "2019    7232\n",
       "2021    2593\n",
       "2018       9\n",
       "Name: Requested Year, dtype: int64"
      ]
     },
     "execution_count": 5,
     "metadata": {},
     "output_type": "execute_result"
    }
   ],
   "source": [
    "#The Requested year looks interesting. Which years do we have?\n",
    "dff['Requested Year'].value_counts()"
   ]
  },
  {
   "cell_type": "code",
   "execution_count": 6,
   "metadata": {},
   "outputs": [
    {
     "data": {
      "text/plain": [
       "Wax Block Print     9463\n",
       "Super Wax           4817\n",
       "SW Paste Fit         955\n",
       "WBP Paste Fit        551\n",
       "Classic Revival      393\n",
       "Wax Print            332\n",
       "Wax Glitter Glam     126\n",
       "Grand Super Wax      123\n",
       "Grand Super-Wax      107\n",
       "Sky Wax               39\n",
       "Wax Wax               18\n",
       "SW paste Fit          17\n",
       "0731/RW/1             14\n",
       "WaxWax                12\n",
       "SW Paste fit          11\n",
       "0395/RW/57            11\n",
       "Bubble Wax            10\n",
       "2961/CA/1              9\n",
       "2961/CA/15             5\n",
       "0731/RW/10             5\n",
       "2824/CA/119            5\n",
       "0395/RW/93             4\n",
       "2961/CA/195            4\n",
       "4191/R/1               3\n",
       "4191/R/9               2\n",
       "2961/RW/210            2\n",
       "2932/RW/3              2\n",
       "3353/RW/11             2\n",
       "Grand Superwax         2\n",
       "Grande Superwax        2\n",
       "                    ... \n",
       "2961/RW/1              2\n",
       "4791/RW/28             1\n",
       "2961/R/39              1\n",
       "1360/R/91              1\n",
       "3382/RW/33             1\n",
       "2961/R/14              1\n",
       "1391/RW/1              1\n",
       "4191/RW/44             1\n",
       "2961/RW/15             1\n",
       "2961/RW/82             1\n",
       "0395/RW/192            1\n",
       "3659/R/9               1\n",
       "4958/RW/18             1\n",
       "0994/RW/89             1\n",
       "3659/R/8               1\n",
       "1391/RW/79             1\n",
       "4791/RW/29             1\n",
       "0395/R/57              1\n",
       "1875/RW/104            1\n",
       "1329/RW/4              1\n",
       "1360/RW/34             1\n",
       "4731/RW/23             1\n",
       "WBP Paste FIt          1\n",
       "SW Super Wax           1\n",
       "1128/RW/13             1\n",
       "4191/R/44              1\n",
       "1360/R/13              1\n",
       "0395/R/10              1\n",
       "3659/R/4               1\n",
       "2047/RW/50             1\n",
       "Name: Description, Length: 62, dtype: int64"
      ]
     },
     "execution_count": 6,
     "metadata": {},
     "output_type": "execute_result"
    }
   ],
   "source": [
    "dff['Description'].value_counts()"
   ]
  },
  {
   "cell_type": "code",
   "execution_count": 7,
   "metadata": {},
   "outputs": [],
   "source": [
    "#Let's rename some columns\n",
    "dff.rename(columns={'Performance First Choice': 'Performance_First_Choice', 'Work Order Document Type':'WO_Doc_Type', 'Work Order Type Description':'WO_Type', '%WorkOrderMaster': 'WorkOrderMaster'}, inplace=True)"
   ]
  },
  {
   "cell_type": "code",
   "execution_count": 8,
   "metadata": {},
   "outputs": [
    {
     "data": {
      "text/plain": [
       "array(['W2'], dtype=object)"
      ]
     },
     "execution_count": 8,
     "metadata": {},
     "output_type": "execute_result"
    }
   ],
   "source": [
    "#We merged the tables, so maybe we won't need to throw out values\n",
    "dff.WO_Doc_Type.unique()"
   ]
  },
  {
   "cell_type": "code",
   "execution_count": 9,
   "metadata": {},
   "outputs": [],
   "source": [
    "df4 = dff[dff.WO_Type != 'OMWERKERS']"
   ]
  },
  {
   "cell_type": "code",
   "execution_count": null,
   "metadata": {},
   "outputs": [],
   "source": [
    "#df4 = df4[df4.WO_Doc_Type != 'W3']"
   ]
  },
  {
   "cell_type": "code",
   "execution_count": null,
   "metadata": {},
   "outputs": [],
   "source": [
    "#df4.WorkOrderMaster = df4.WorkOrderMaster.astype(float)"
   ]
  },
  {
   "cell_type": "code",
   "execution_count": 10,
   "metadata": {},
   "outputs": [],
   "source": [
    "# Uplift calculation\n",
    "df4['Uplift'] = (df4['Total First Choice'] + df4['Total Scrap'] + df4['Total Fents']) / df4['Gross Total Quantity Ordered']"
   ]
  },
  {
   "cell_type": "code",
   "execution_count": 11,
   "metadata": {},
   "outputs": [],
   "source": [
    "# In-full calculation\n",
    "df4['Infull'] =   df4['Total First Choice'] / df4['Gross Total Quantity Ordered']"
   ]
  },
  {
   "cell_type": "code",
   "execution_count": 12,
   "metadata": {},
   "outputs": [
    {
     "data": {
      "text/plain": [
       "0        0.928077\n",
       "1        0.883665\n",
       "2        0.950451\n",
       "3        0.897897\n",
       "4        0.954312\n",
       "5        0.944679\n",
       "6        0.926763\n",
       "7        0.940270\n",
       "8        0.964367\n",
       "9        0.615670\n",
       "10       0.926979\n",
       "11       0.924262\n",
       "12       0.847140\n",
       "13       0.855302\n",
       "14       0.979726\n",
       "15       0.852375\n",
       "16       0.918111\n",
       "17       0.860880\n",
       "18       0.850469\n",
       "19       0.917943\n",
       "20       0.935825\n",
       "21       0.863200\n",
       "22       0.880628\n",
       "23       0.943245\n",
       "24       0.988487\n",
       "25       0.828705\n",
       "26       0.927330\n",
       "27       0.971566\n",
       "28       0.961282\n",
       "29       0.855799\n",
       "           ...   \n",
       "17051    0.862299\n",
       "17052    0.929050\n",
       "17053    0.946183\n",
       "17054    0.813324\n",
       "17055    0.942483\n",
       "17056    0.942822\n",
       "17057    0.943110\n",
       "17058    0.912182\n",
       "17059    0.915764\n",
       "17060    0.911952\n",
       "17061    0.938926\n",
       "17062    0.968486\n",
       "17063    0.939608\n",
       "17064    0.919112\n",
       "17065    0.971566\n",
       "17066    0.777759\n",
       "17067    0.910719\n",
       "17068    0.854538\n",
       "17069    0.887000\n",
       "17070    0.815811\n",
       "17071    0.895825\n",
       "17072    0.945811\n",
       "17073    0.974473\n",
       "17074    0.892834\n",
       "17075    0.914568\n",
       "17076         NaN\n",
       "17077    0.921255\n",
       "17078    0.853346\n",
       "17079         NaN\n",
       "17080    0.919324\n",
       "Name: Infull, Length: 17081, dtype: float64"
      ]
     },
     "execution_count": 12,
     "metadata": {},
     "output_type": "execute_result"
    }
   ],
   "source": [
    "df4['Infull']"
   ]
  },
  {
   "cell_type": "code",
   "execution_count": 13,
   "metadata": {},
   "outputs": [],
   "source": [
    "#In-full or not?\n",
    "import numpy as np\n",
    "\n",
    "conditions = [\n",
    "    (df4['Infull'] < 0.90),\n",
    "    (df4['Infull'] >= 0.90) & (df4['Infull'] <= 1.05),\n",
    "    (df4['Infull'] > 1.05)\n",
    "    ]\n",
    "\n",
    "values = ['below', 'yes', 'above']\n",
    "\n",
    "df4['Infull_cond'] = np.select(conditions, values)"
   ]
  },
  {
   "cell_type": "code",
   "execution_count": 14,
   "metadata": {},
   "outputs": [
    {
     "data": {
      "text/plain": [
       "below    0.522218\n",
       "yes      0.430595\n",
       "0        0.027750\n",
       "above    0.019437\n",
       "Name: Infull_cond, dtype: float64"
      ]
     },
     "execution_count": 14,
     "metadata": {},
     "output_type": "execute_result"
    }
   ],
   "source": [
    "#What portion of all orders was in-full? It's 43%\n",
    "df4.Infull_cond.value_counts(normalize=True)"
   ]
  },
  {
   "cell_type": "code",
   "execution_count": 17,
   "metadata": {},
   "outputs": [
    {
     "data": {
      "text/plain": [
       "<matplotlib.collections.PathCollection at 0x20fd9cdacc0>"
      ]
     },
     "execution_count": 17,
     "metadata": {},
     "output_type": "execute_result"
    },
    {
     "data": {
      "image/png": "[encoded data removed]",
      "text/plain": [
       "<Figure size 432x288 with 1 Axes>"
      ]
     },
     "metadata": {},
     "output_type": "display_data"
    }
   ],
   "source": [
    "df5 = df4\n",
    "import matplotlib.pyplot as plt\n",
    "\n",
    "df5.rename(columns={'Total First Choice': 'Total_First_Choice', 'Total Scrap':'Total_Scrap'}, inplace=True)\n",
    "plt.scatter(x=df5.Total_First_Choice,\n",
    "            y=df5.Total_Scrap,\n",
    "            c=df5.Description.astype('category').cat.codes)"
   ]
  },
  {
   "cell_type": "code",
   "execution_count": 18,
   "metadata": {},
   "outputs": [
    {
     "data": {
      "text/plain": [
       "<matplotlib.axes._subplots.AxesSubplot at 0x20fda7a7c18>"
      ]
     },
     "execution_count": 18,
     "metadata": {},
     "output_type": "execute_result"
    },
    {
     "data": {
      "image/png": "[encoded data removed]",
      "text/plain": [
       "<Figure size 432x288 with 1 Axes>"
      ]
     },
     "metadata": {},
     "output_type": "display_data"
    }
   ],
   "source": [
    "#Exploratory Analysis. There seems to be an improving trend over the years, let's not jinx it.\n",
    "#%matplotlib inline\n",
    "df4.groupby('Requested Year')['Infull_cond'].value_counts().plot(kind='Bar')"
   ]
  },
  {
   "cell_type": "code",
   "execution_count": 21,
   "metadata": {},
   "outputs": [],
   "source": [
    "#df4.groupby('Requested Year')['Uplift'].plot(kind='kde', legend=True)"
   ]
  },
  {
   "cell_type": "code",
   "execution_count": 23,
   "metadata": {},
   "outputs": [],
   "source": [
    "# Let's make a training and test set and divide it 80:20, predicting the uplift\n",
    "df4=df4.fillna(0)\n",
    "X = df4.drop('Uplift', axis=1)\n",
    "y = df4['Uplift']\n",
    "X = X[[\"Total_First_Choice\",\"Total Fents\",\"Performance Fents\", \"Total Scrap Routing\", \"Total_Scrap\", \n",
    "       \"Performance_First_Choice\", \"Performance Scrap\", \"Gross Total Quantity Ordered\"]]"
   ]
  },
  {
   "cell_type": "code",
   "execution_count": 24,
   "metadata": {},
   "outputs": [],
   "source": [
    "from sklearn.model_selection import train_test_split\n",
    "X_train, X_test, y_train, y_test = \\\n",
    "    train_test_split(X, y, test_size=0.2, random_state=42)"
   ]
  },
  {
   "cell_type": "code",
   "execution_count": 25,
   "metadata": {},
   "outputs": [
    {
     "data": {
      "text/plain": [
       "LinearRegression(copy_X=True, fit_intercept=True, n_jobs=None,\n",
       "         normalize=False)"
      ]
     },
     "execution_count": 25,
     "metadata": {},
     "output_type": "execute_result"
    }
   ],
   "source": [
    "# This will be put through a linear regression analysis\n",
    "from sklearn.linear_model import LinearRegression\n",
    "lr = LinearRegression()\n",
    "lr.fit(X_train, y_train)"
   ]
  },
  {
   "cell_type": "code",
   "execution_count": 26,
   "metadata": {},
   "outputs": [
    {
     "data": {
      "text/plain": [
       "0.07136247695081172"
      ]
     },
     "execution_count": 26,
     "metadata": {},
     "output_type": "execute_result"
    }
   ],
   "source": [
    "# How much do we deviate from the expected values?\n",
    "from sklearn.metrics import mean_squared_error\n",
    "import numpy as np\n",
    "y_pred = lr.predict (X_test)\n",
    "rmse_model = np.sqrt(mean_squared_error(y_test, y_pred))\n",
    "rmse_model"
   ]
  },
  {
   "cell_type": "code",
   "execution_count": 27,
   "metadata": {},
   "outputs": [],
   "source": [
    "result_comparison = pd.DataFrame({'Actual': y_test, 'Predicted': y_pred})"
   ]
  },
  {
   "cell_type": "code",
   "execution_count": 28,
   "metadata": {},
   "outputs": [
    {
     "name": "stdout",
     "output_type": "stream",
     "text": [
      "         Actual  Predicted\n",
      "10928  0.994896   1.084404\n",
      "14157  1.092450   1.162598\n",
      "290    1.000209   1.005137\n",
      "15684  1.042030   0.986863\n",
      "6179   1.102827   1.088918\n",
      "980    1.080758   1.146954\n",
      "4010   1.043775   1.091867\n",
      "10798  1.071263   1.022343\n",
      "8530   1.071054   1.087191\n",
      "3316   1.069312   1.073663\n",
      "16185  1.002983   0.988751\n",
      "657    0.985571   1.015362\n",
      "8509   1.057319   1.088656\n",
      "3669   1.089307   1.094912\n",
      "5714   1.003808   0.973730\n",
      "4672   1.013955   1.028481\n",
      "12321  1.013333   1.024695\n",
      "3298   1.004003   0.964050\n",
      "10124  1.015020   1.042620\n",
      "5942   1.270031   1.146424\n",
      "6921   0.998959   0.968032\n",
      "3952   1.020966   0.953272\n",
      "11976  0.999958   1.119069\n",
      "9247   0.989233   1.010466\n",
      "10140  1.067205   1.096943\n",
      "3268   1.000401   0.995833\n",
      "15476  1.009691   1.030306\n",
      "6690   0.948252   0.975352\n",
      "9542   1.061702   1.068429\n",
      "5227   1.120994   1.096791\n",
      "...         ...        ...\n",
      "4089   1.028590   1.057335\n",
      "9652   1.173435   1.170115\n",
      "3147   1.045538   1.116660\n",
      "14290  1.064642   1.052227\n",
      "17052  1.000848   1.007517\n",
      "6706   1.039720   0.988771\n",
      "13978  1.064882   1.105914\n",
      "8568   0.951438   0.922832\n",
      "10431  1.006688   1.006522\n",
      "2425   1.109090   1.038767\n",
      "11423  0.948098   0.932610\n",
      "10484  1.047954   1.031126\n",
      "14620  1.059675   1.024195\n",
      "8481   1.031564   0.988451\n",
      "15445  1.049461   1.076128\n",
      "16231  0.998820   0.985082\n",
      "12471  1.094548   1.112012\n",
      "15182  1.025315   1.053934\n",
      "11301  1.024459   0.936846\n",
      "14911  1.089400   1.103301\n",
      "5357   1.205739   1.188502\n",
      "12377  1.054159   1.020455\n",
      "407    0.998977   0.991929\n",
      "6255   1.021796   1.040559\n",
      "12612  0.999498   0.957493\n",
      "8606   0.976647   0.985617\n",
      "15863  1.058981   1.007259\n",
      "1623   1.020781   1.041704\n",
      "1595   1.165444   1.086971\n",
      "11427  2.238318   1.407334\n",
      "\n",
      "[3417 rows x 2 columns]\n"
     ]
    }
   ],
   "source": [
    "# 0.07 looks like this:\n",
    "print(result_comparison)"
   ]
  }
 ],
 "metadata": {
  "kernelspec": {
   "display_name": "Python 3",
   "language": "python",
   "name": "python3"
  },
  "language_info": {
   "codemirror_mode": {
    "name": "ipython",
    "version": 3
   },
   "file_extension": ".py",
   "mimetype": "text/x-python",
   "name": "python",
   "nbconvert_exporter": "python",
   "pygments_lexer": "ipython3",
   "version": "3.5.2"
  }
 },
 "nbformat": 4,
 "nbformat_minor": 2
}
